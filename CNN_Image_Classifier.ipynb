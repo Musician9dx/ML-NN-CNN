{
  "cells": [
    {
      "cell_type": "markdown",
      "metadata": {
        "id": "7Yt_DRr4-1KE"
      },
      "source": [
        "## **IMPORTING LIBRARIES**"
      ]
    },
    {
      "cell_type": "code",
      "execution_count": null,
      "metadata": {
        "id": "LVY7cRne-vVM"
      },
      "outputs": [],
      "source": [
        "import numpy as np\n",
        "import matplotlib.pyplot as plt\n",
        "import tensorflow as tf"
      ]
    },
    {
      "cell_type": "markdown",
      "metadata": {
        "id": "fAJ_kQTg_gaq"
      },
      "source": [
        "## **DATA LOAD**"
      ]
    },
    {
      "cell_type": "code",
      "execution_count": null,
      "metadata": {
        "colab": {
          "base_uri": "https://localhost:8080/"
        },
        "id": "HfCrG6DTFIaZ",
        "outputId": "bc9cb256-0cfa-4d83-db17-f56156453bc4"
      },
      "outputs": [
        {
          "name": "stdout",
          "output_type": "stream",
          "text": [
            "Downloading data from https://storage.googleapis.com/tensorflow/tf-keras-datasets/train-labels-idx1-ubyte.gz\n",
            "29515/29515 [==============================] - 0s 0us/step\n",
            "Downloading data from https://storage.googleapis.com/tensorflow/tf-keras-datasets/train-images-idx3-ubyte.gz\n",
            "26421880/26421880 [==============================] - 0s 0us/step\n",
            "Downloading data from https://storage.googleapis.com/tensorflow/tf-keras-datasets/t10k-labels-idx1-ubyte.gz\n",
            "5148/5148 [==============================] - 0s 0us/step\n",
            "Downloading data from https://storage.googleapis.com/tensorflow/tf-keras-datasets/t10k-images-idx3-ubyte.gz\n",
            "4422102/4422102 [==============================] - 0s 0us/step\n"
          ]
        }
      ],
      "source": [
        "fmnist = tf.keras.datasets.fashion_mnist\n",
        "(training_images, training_labels), (test_images, test_labels) = fmnist.load_data()\n",
        "\n"
      ]
    },
    {
      "cell_type": "markdown",
      "metadata": {
        "id": "qmwpsQA0FMgB"
      },
      "source": [
        "## **DATA PREPROCESSING**"
      ]
    },
    {
      "cell_type": "code",
      "execution_count": null,
      "metadata": {
        "colab": {
          "base_uri": "https://localhost:8080/"
        },
        "id": "GrWctWqxFScL",
        "outputId": "15a9ecce-6e00-4887-8edd-b8c3fb311164"
      },
      "outputs": [
        {
          "name": "stdout",
          "output_type": "stream",
          "text": [
            "tf.Tensor([60000    28    28     1], shape=(4,), dtype=int32)\n"
          ]
        }
      ],
      "source": [
        "print(tf.shape(training_images))\n",
        "training_images=training_images/255\n",
        "test_images=test_images/255\n",
        "training_images=tf.reshape(training_images,(60000,28,28,1))"
      ]
    },
    {
      "cell_type": "markdown",
      "metadata": {
        "id": "PVX5t6gNFewU"
      },
      "source": [
        "## **DATA VISUALIZATION**"
      ]
    },
    {
      "cell_type": "code",
      "execution_count": null,
      "metadata": {
        "colab": {
          "base_uri": "https://localhost:8080/",
          "height": 447
        },
        "id": "SWbpO6o4Fm0c",
        "outputId": "2b694a37-f6e3-4747-f0ec-d1284f3aa2df"
      },
      "outputs": [
        {
          "data": {
            "text/plain": [
              "<matplotlib.image.AxesImage at 0x7fd950364f40>"
            ]
          },
          "execution_count": 19,
          "metadata": {},
          "output_type": "execute_result"
        },
        {
          "data": {
            "image/png": "[encoded data removed]",
            "text/plain": [
              "<Figure size 640x480 with 1 Axes>"
            ]
          },
          "metadata": {},
          "output_type": "display_data"
        }
      ],
      "source": [
        "plt.imshow(training_images[0])\n"
      ]
    },
    {
      "cell_type": "markdown",
      "metadata": {
        "id": "y4HH4dK2FzBH"
      },
      "source": [
        "## **MACHINE LEARNING ALGORITHM**"
      ]
    },
    {
      "cell_type": "code",
      "execution_count": null,
      "metadata": {
        "colab": {
          "background_save": true,
          "base_uri": "https://localhost:8080/"
        },
        "id": "7LB6B5qQFkIv",
        "outputId": "42bdb4a7-e166-445f-c641-00445e82f925"
      },
      "outputs": [
        {
          "name": "stdout",
          "output_type": "stream",
          "text": [
            "Model: \"sequential_2\"\n",
            "_________________________________________________________________\n",
            " Layer (type)                Output Shape              Param #   \n",
            "=================================================================\n",
            " conv2d_4 (Conv2D)           (None, 26, 26, 128)       1280      \n",
            "                                                                 \n",
            " max_pooling2d_4 (MaxPooling  (None, 13, 13, 128)      0         \n",
            " 2D)                                                             \n",
            "                                                                 \n",
            " conv2d_5 (Conv2D)           (None, 11, 11, 128)       147584    \n",
            "                                                                 \n",
            " max_pooling2d_5 (MaxPooling  (None, 5, 5, 128)        0         \n",
            " 2D)                                                             \n",
            "                                                                 \n",
            " flatten_2 (Flatten)         (None, 3200)              0         \n",
            "                                                                 \n",
            " dense_10 (Dense)            (None, 128)               409728    \n",
            "                                                                 \n",
            " dense_11 (Dense)            (None, 512)               66048     \n",
            "                                                                 \n",
            " dense_12 (Dense)            (None, 1024)              525312    \n",
            "                                                                 \n",
            " dense_13 (Dense)            (None, 2048)              2099200   \n",
            "                                                                 \n",
            " dense_14 (Dense)            (None, 10)                20490     \n",
            "                                                                 \n",
            "=================================================================\n",
            "Total params: 3,269,642\n",
            "Trainable params: 3,269,642\n",
            "Non-trainable params: 0\n",
            "_________________________________________________________________\n",
            "1875/1875 [==============================] - 366s 194ms/step - loss: 2.3028 - accuracy: 0.1006\n",
            "313/313 [==============================] - 13s 42ms/step - loss: 2.3027 - accuracy: 0.1000\n"
          ]
        }
      ],
      "source": [
        "from keras.layers.pooling.max_pooling2d import MaxPooling2D\n",
        "ml_algo=tf.keras.models.Sequential([\n",
        "\n",
        "      tf.keras.layers.Conv2D(filters=128,kernel_size=(3,3),activation='relu',input_shape=(28,28,1)),\n",
        "      tf.keras.layers.MaxPooling2D(pool_size=(2,2),padding='valid'),\n",
        "      tf.keras.layers.Conv2D(filters=128,kernel_size=(3,3),activation='relu'),\n",
        "      tf.keras.layers.MaxPooling2D(pool_size=(2,2),padding='valid'),\n",
        "      tf.keras.layers.Flatten(),\n",
        "      tf.keras.layers.Dense(units=128,activation='relu'),\n",
        "      tf.keras.layers.Dense(units=512,activation='relu'),\n",
        "      tf.keras.layers.Dense(units=1024,activation='relu'),\n",
        "      tf.keras.layers.Dense(units=2048,activation='relu'),\n",
        "      tf.keras.layers.Dense(units=10,activation='softmax'),\n",
        "])\n",
        "\n",
        "ml_algo.summary()\n",
        "ml_algo.compile(optimizer='adam',loss='sparse_categorical_crossentropy',metrics=['accuracy'])\n",
        "history=ml_algo.fit(training_images,training_labels,epochs=1)\n",
        "losses=ml_algo.evaluate(test_images,test_labels)"
      ]
    },
    {
      "cell_type": "markdown",
      "metadata": {
        "id": "iF2iRC7rOvIi"
      },
      "source": [
        "## **Model Evaluation and Testing**"
      ]
    },
    {
      "cell_type": "code",
      "execution_count": 15,
      "metadata": {
        "colab": {
          "base_uri": "https://localhost:8080/"
        },
        "id": "d4zqGJyiOukx",
        "outputId": "885858f3-5af6-4f53-9d3f-398a22ecab42"
      },
      "outputs": [
        {
          "output_type": "stream",
          "name": "stdout",
          "text": [
            "tf.Tensor([10000    28    28     1], shape=(4,), dtype=int32)\n",
            "313/313 [==============================] - 24s 76ms/step\n"
          ]
        }
      ],
      "source": [
        "tf.shape(test_images)\n",
        "test_images=tf.reshape(test_images,(10000,28,28,1))\n",
        "print(tf.shape(test_images))\n",
        "\n",
        "predictions=ml_algo.predict(test_images)\n"
      ]
    },
    {
      "cell_type": "code",
      "execution_count": 19,
      "metadata": {
        "colab": {
          "base_uri": "https://localhost:8080/"
        },
        "id": "yfGnuk0YRbIH",
        "outputId": "61f4d245-a647-4f73-d776-980d74fd99a7"
      },
      "outputs": [
        {
          "output_type": "stream",
          "name": "stdout",
          "text": [
            "9\n",
            "[9 2 1 ... 8 1 5]\n"
          ]
        }
      ],
      "source": [
        "l=np.argmax(predictions[0])\n",
        "fashion = ['T-shirt/top',' Trouser','Pullover','Dress','Coat','Sandal','Shirt','Sneaker','Bag','Ankle Boot']\n",
        "print(l)\n",
        "print(test_labels)\n"
      ]
    },
    {
      "cell_type": "code",
      "execution_count": 23,
      "metadata": {
        "colab": {
          "base_uri": "https://localhost:8080/",
          "height": 469
        },
        "id": "82uAQJTHRmrv",
        "outputId": "da3c0f2c-b22d-46a6-8b01-84328f7e2c1b"
      },
      "outputs": [
        {
          "output_type": "execute_result",
          "data": {
            "text/plain": [
              "Text(0.5, 1.0, 'Ankle Boot')"
            ]
          },
          "metadata": {},
          "execution_count": 23
        },
        {
          "output_type": "display_data",
          "data": {
            "text/plain": [
              "<Figure size 640x480 with 1 Axes>"
            ],
            "image/png": "[encoded data removed]"
          },
          "metadata": {}
        }
      ],
      "source": [
        "plt.imshow(test_images[0])\n",
        "plt.title(str(fashion[l]))\n"
      ]
    }
  ],
  "metadata": {
    "accelerator": "GPU",
    "colab": {
      "provenance": []
    },
    "kernelspec": {
      "display_name": "Python 3",
      "name": "python3"
    },
    "language_info": {
      "name": "python"
    }
  },
  "nbformat": 4,
  "nbformat_minor": 0
}